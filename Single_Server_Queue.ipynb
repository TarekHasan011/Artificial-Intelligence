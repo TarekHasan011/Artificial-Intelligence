{
  "nbformat": 4,
  "nbformat_minor": 0,
  "metadata": {
    "colab": {
      "name": "Single Server Queue.ipynb",
      "provenance": [],
      "collapsed_sections": [],
      "authorship_tag": "ABX9TyME0nhIMt/G5UEHwi7mG8Di",
      "include_colab_link": true
    },
    "kernelspec": {
      "name": "python3",
      "display_name": "Python 3"
    },
    "language_info": {
      "name": "python"
    }
  },
  "cells": [
    {
      "cell_type": "markdown",
      "metadata": {
        "id": "view-in-github",
        "colab_type": "text"
      },
      "source": [
        "<a href=\"https://colab.research.google.com/github/TarekHasan011/Artificial-Intelligence/blob/main/Single_Server_Queue.ipynb\" target=\"_parent\"><img src=\"https://colab.research.google.com/assets/colab-badge.svg\" alt=\"Open In Colab\"/></a>"
      ]
    },
    {
      "cell_type": "code",
      "metadata": {
        "id": "GtQa27KgYJZv"
      },
      "source": [
        "import numpy as np\n",
        "import matplotlib.pyplot as plt\n",
        "import csv"
      ],
      "execution_count": null,
      "outputs": []
    },
    {
      "cell_type": "code",
      "metadata": {
        "id": "3aMvfOifIFY0"
      },
      "source": [
        "class SSQ:\n",
        "\n",
        "    def __init__(self,Arrival_time,Service_time,algorithm):\n",
        "        \n",
        "        self.Arrival_time = Arrival_time\n",
        "        self.Service_time = {}\n",
        "        self.algorithm = algorithm\n",
        "\n",
        "        self.Q_t_x = np.array([])\n",
        "        self.Q_t_y = np.array([])\n",
        "\n",
        "        self.B_t_x = np.array([])\n",
        "        self.B_t_y = np.array([])\n",
        "\n",
        "        for i in range(len(Service_time)):\n",
        "            self.Service_time[Arrival_time[i]] = Service_time[i]\n",
        "\n",
        "        self.iteration = 0\n",
        "\n",
        "        self.clock = [0, 'X']\n",
        "        self.event_List = [self.Arrival_time[self.iteration],np.inf]\n",
        "        self.server_status = 0\n",
        "        self.number_in_queue = 0\n",
        "        self.times_of_arrival = []\n",
        "        self.number_of_customer_delay = 0\n",
        "        self.total_delay = 0\n",
        "        self.area_under_Qt = 0\n",
        "        self.area_under_Bt = 0\n",
        "\n",
        "        self.prev_clock = 0\n",
        "        self.print_iter = 0\n",
        "        \n",
        "    def run(self):\n",
        "\n",
        "        f = open('simulation_result.csv','w',newline=\"\")\n",
        "        writer = csv.writer(f)\n",
        "        tup1 = (\"\",\"Clock\",\"Event List\",\"Server Status\",\"Number in Queue\",\"Times of Arrival\",\"Number of Customer Delay\",\"Total Delay\",\"Area Under Q(t)\",\"Area Under B(t)\")\n",
        "        writer.writerow(tup1)\n",
        "        f.close()\n",
        "\n",
        "        print(\"*******START OF THE SIMULATION*******\")\n",
        "        self.time_advancement()\n",
        "\n",
        "    def show_current_status(self):\n",
        "        print(f'clock: {self.clock} \\tA: {self.event_List[0]} D: {self.event_List[1]} \\tServer Status : {self.server_status} \\tNumber in Queue: {self.number_in_queue} \\tTimes of Arrival: {self.times_of_arrival} \\tNumber of Customer Delay: {self.number_of_customer_delay} \\tTotal Delay: {round(self.total_delay,4)} \\tArea Under Q(t): {round(self.area_under_Qt,4)} \\tArea Under B(t): {round(self.area_under_Bt,4)}')\n",
        "        f = open('simulation_result.csv','a',newline=\"\")\n",
        "        writer = csv.writer(f)\n",
        "        tup1 = (self.print_iter,'0' if self.clock[1]=='X' else f'{self.clock[0]} ({self.clock[1]})',f'A: {self.event_List[0]} ; D: {self.event_List[1]}',self.server_status,self.number_in_queue,self.times_of_arrival,self.number_of_customer_delay,round(self.total_delay,4),round(self.area_under_Qt,4),round(self.area_under_Bt,4))\n",
        "        writer.writerow(tup1)\n",
        "        f.close()\n",
        "        self.print_iter+=1\n",
        "\n",
        "    def mechanism(self):\n",
        "        if self.algorithm == \"FIFO\":\n",
        "            return self.times_of_arrival.pop(0)\n",
        "        elif self.algorithm == \"LIFO\":\n",
        "            return self.times_of_arrival.pop(len(self.times_of_arrival)-1)\n",
        "        else:\n",
        "            val = np.inf\n",
        "            for i in range(len(self.times_of_arrival)):\n",
        "                if self.Service_time[self.times_of_arrival[i]] < val:\n",
        "                    it = i\n",
        "                    val = self.Service_time[self.times_of_arrival[i]]\n",
        "            temp = self.times_of_arrival[it]\n",
        "            self.times_of_arrival.pop(it)\n",
        "            return temp\n",
        "\n",
        "\n",
        "    def time_advancement(self):\n",
        "        self.show_current_status()\n",
        "\n",
        "        # start stopping condition\n",
        "        if self.event_List[0] == np.inf and self.event_List[1] == np.inf:\n",
        "            print(\"*******END OF THE SIMULATION*******\")\n",
        "            return\n",
        "        # end stopping condition\n",
        "\n",
        "        \n",
        "\n",
        "        self.prev_clock = self.clock[0]\n",
        "        \n",
        "        self.clock = [self.event_List[0],'A'] if self.event_List[0]<self.event_List[1] else [self.event_List[1],'D']\n",
        "        \n",
        "        self.area_under_Qt += (self.clock[0]-self.prev_clock) * self.number_in_queue\n",
        "\n",
        "        temp_x = np.arange(self.prev_clock,self.clock[0],0.01)\n",
        "        self.Q_t_x = np.array(list(self.Q_t_x)+list(temp_x))\n",
        "        self.Q_t_y = np.array(list(self.Q_t_y)+list(np.array([self.number_in_queue]*len(temp_x))))\n",
        "\n",
        "        self.area_under_Bt += (self.clock[0]-self.prev_clock) * self.server_status\n",
        "        \n",
        "        self.B_t_x = np.array(list(self.B_t_x)+list(temp_x))\n",
        "        self.B_t_y = np.array(list(self.B_t_y)+list(np.array([self.server_status]*len(temp_x))))\n",
        "\n",
        "        self.prev_clock = self.clock[0]\n",
        "\n",
        "        if self.clock[1] == 'A':\n",
        "\n",
        "            self.iteration += 1\n",
        "            if self.iteration >= len(self.Arrival_time):\n",
        "                self.event_List[0] = np.inf\n",
        "            else:\n",
        "                self.event_List[0] = self.Arrival_time[self.iteration]\n",
        "            \n",
        "            if self.server_status == 0:\n",
        "                self.server_status = 1\n",
        "                self.number_of_customer_delay+=1\n",
        "                self.event_List[1] = self.clock[0] + self.Service_time[self.clock[0]]\n",
        "            else:\n",
        "                self.number_in_queue+=1\n",
        "                self.times_of_arrival.append(self.clock[0])\n",
        "        else:\n",
        "            if self.number_in_queue == 0:\n",
        "                self.event_List[1] = np.inf\n",
        "                self.server_status = 0\n",
        "            else:\n",
        "                self.number_in_queue-=1\n",
        "                next_start = self.mechanism()\n",
        "                self.total_delay += (self.clock[0]-next_start)\n",
        "                self.event_List[1] = self.clock[0]+self.Service_time[next_start]\n",
        "                self.number_of_customer_delay+=1\n",
        "        self.time_advancement()\n",
        "\n",
        "    def Report_Generation(self):\n",
        "        print(f'Average Delay: {round(self.total_delay/self.number_of_customer_delay,4)}')\n",
        "        print(f'Expected number of customers in the queue: {round(self.area_under_Qt/self.prev_clock,4)}')\n",
        "        print(f'Average utilization: {round(self.area_under_Bt/self.prev_clock,4)}')\n",
        "\n",
        "        \n",
        "        plt.plot(self.Q_t_x,self.Q_t_y)\n",
        "        plt.xticks(np.arange(0, 10, 0.5))\n",
        "        plt.xlabel('t')\n",
        "        plt.ylabel('Q(t)')\n",
        "        plt.title('Customers in the Queue')\n",
        "        \n",
        "        \n",
        "        plt.show()\n",
        "        plt.clf()\n",
        "\n",
        "        plt.plot(self.B_t_x,self.B_t_y)\n",
        "        plt.xticks(np.arange(0, 10, 0.5))\n",
        "        plt.xlabel('t')\n",
        "        plt.ylabel('B(t)')\n",
        "        plt.title('Utilization of the Server')\n",
        "        \n",
        "        \n",
        "        plt.show()"
      ],
      "execution_count": null,
      "outputs": []
    },
    {
      "cell_type": "code",
      "metadata": {
        "id": "y2_rTX77K2Uf"
      },
      "source": [
        "A = [0.8,2.5,2.8,4.7,5.2,5.5,7.6]\n",
        "S = [2.2,0.5,0.4,2.8,0.2,0.6,0.9]\n",
        "simulator = SSQ(A,S,\"SJF\")"
      ],
      "execution_count": null,
      "outputs": []
    },
    {
      "cell_type": "code",
      "metadata": {
        "colab": {
          "base_uri": "https://localhost:8080/"
        },
        "id": "BCNFlb9Fn_op",
        "outputId": "9c5b2792-06ea-43be-ff3c-8fc550180fdd"
      },
      "source": [
        "simulator.run()"
      ],
      "execution_count": null,
      "outputs": [
        {
          "output_type": "stream",
          "text": [
            "*******START OF THE SIMULATION*******\n",
            "clock: [0, 'X'] \tA: 0.8 D: inf \tServer Status : 0 \tNumber in Queue: 0 \tTimes of Arrival: [] \tNumber of Customer Delay: 0 \tTotal Delay: 0 \tArea Under Q(t): 0 \tArea Under B(t): 0\n",
            "clock: [0.8, 'A'] \tA: 2.5 D: 3.0 \tServer Status : 1 \tNumber in Queue: 0 \tTimes of Arrival: [] \tNumber of Customer Delay: 1 \tTotal Delay: 0 \tArea Under Q(t): 0.0 \tArea Under B(t): 0.0\n",
            "clock: [2.5, 'A'] \tA: 2.8 D: 3.0 \tServer Status : 1 \tNumber in Queue: 1 \tTimes of Arrival: [2.5] \tNumber of Customer Delay: 1 \tTotal Delay: 0 \tArea Under Q(t): 0.0 \tArea Under B(t): 1.7\n",
            "clock: [2.8, 'A'] \tA: 4.7 D: 3.0 \tServer Status : 1 \tNumber in Queue: 2 \tTimes of Arrival: [2.5, 2.8] \tNumber of Customer Delay: 1 \tTotal Delay: 0 \tArea Under Q(t): 0.3 \tArea Under B(t): 2.0\n",
            "clock: [3.0, 'D'] \tA: 4.7 D: 3.4 \tServer Status : 1 \tNumber in Queue: 1 \tTimes of Arrival: [2.5] \tNumber of Customer Delay: 2 \tTotal Delay: 0.2 \tArea Under Q(t): 0.7 \tArea Under B(t): 2.2\n",
            "clock: [3.4, 'D'] \tA: 4.7 D: 3.9 \tServer Status : 1 \tNumber in Queue: 0 \tTimes of Arrival: [] \tNumber of Customer Delay: 3 \tTotal Delay: 1.1 \tArea Under Q(t): 1.1 \tArea Under B(t): 2.6\n",
            "clock: [3.9, 'D'] \tA: 4.7 D: inf \tServer Status : 0 \tNumber in Queue: 0 \tTimes of Arrival: [] \tNumber of Customer Delay: 3 \tTotal Delay: 1.1 \tArea Under Q(t): 1.1 \tArea Under B(t): 3.1\n",
            "clock: [4.7, 'A'] \tA: 5.2 D: 7.5 \tServer Status : 1 \tNumber in Queue: 0 \tTimes of Arrival: [] \tNumber of Customer Delay: 4 \tTotal Delay: 1.1 \tArea Under Q(t): 1.1 \tArea Under B(t): 3.1\n",
            "clock: [5.2, 'A'] \tA: 5.5 D: 7.5 \tServer Status : 1 \tNumber in Queue: 1 \tTimes of Arrival: [5.2] \tNumber of Customer Delay: 4 \tTotal Delay: 1.1 \tArea Under Q(t): 1.1 \tArea Under B(t): 3.6\n",
            "clock: [5.5, 'A'] \tA: 7.6 D: 7.5 \tServer Status : 1 \tNumber in Queue: 2 \tTimes of Arrival: [5.2, 5.5] \tNumber of Customer Delay: 4 \tTotal Delay: 1.1 \tArea Under Q(t): 1.4 \tArea Under B(t): 3.9\n",
            "clock: [7.5, 'D'] \tA: 7.6 D: 7.7 \tServer Status : 1 \tNumber in Queue: 1 \tTimes of Arrival: [5.5] \tNumber of Customer Delay: 5 \tTotal Delay: 3.4 \tArea Under Q(t): 5.4 \tArea Under B(t): 5.9\n",
            "clock: [7.6, 'A'] \tA: inf D: 7.7 \tServer Status : 1 \tNumber in Queue: 2 \tTimes of Arrival: [5.5, 7.6] \tNumber of Customer Delay: 5 \tTotal Delay: 3.4 \tArea Under Q(t): 5.5 \tArea Under B(t): 6.0\n",
            "clock: [7.7, 'D'] \tA: inf D: 8.3 \tServer Status : 1 \tNumber in Queue: 1 \tTimes of Arrival: [7.6] \tNumber of Customer Delay: 6 \tTotal Delay: 5.6 \tArea Under Q(t): 5.7 \tArea Under B(t): 6.1\n",
            "clock: [8.3, 'D'] \tA: inf D: 9.200000000000001 \tServer Status : 1 \tNumber in Queue: 0 \tTimes of Arrival: [] \tNumber of Customer Delay: 7 \tTotal Delay: 6.3 \tArea Under Q(t): 6.3 \tArea Under B(t): 6.7\n",
            "clock: [9.200000000000001, 'D'] \tA: inf D: inf \tServer Status : 0 \tNumber in Queue: 0 \tTimes of Arrival: [] \tNumber of Customer Delay: 7 \tTotal Delay: 6.3 \tArea Under Q(t): 6.3 \tArea Under B(t): 7.6\n",
            "*******END OF THE SIMULATION*******\n"
          ],
          "name": "stdout"
        }
      ]
    },
    {
      "cell_type": "code",
      "metadata": {
        "colab": {
          "base_uri": "https://localhost:8080/",
          "height": 625
        },
        "id": "AON26AqKoA8R",
        "outputId": "7b8dcc3a-daf6-4e50-bee6-318a41e0d96a"
      },
      "source": [
        "simulator.Report_Generation()"
      ],
      "execution_count": null,
      "outputs": [
        {
          "output_type": "stream",
          "text": [
            "Average Delay: 0.9\n",
            "Expected number of customers in the queue: 0.6848\n",
            "Average utilization: 0.8261\n"
          ],
          "name": "stdout"
        },
        {
          "output_type": "display_data",
          "data": {
            "image/png": "[encoded data removed]",
            "text/plain": [
              "<Figure size 432x288 with 1 Axes>"
            ]
          },
          "metadata": {
            "needs_background": "light"
          }
        },
        {
          "output_type": "display_data",
          "data": {
            "image/png": "[encoded data removed]",
            "text/plain": [
              "<Figure size 432x288 with 1 Axes>"
            ]
          },
          "metadata": {
            "needs_background": "light"
          }
        }
      ]
    }
  ]
}